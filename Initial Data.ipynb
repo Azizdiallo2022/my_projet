{
 "cells": [
  {
   "cell_type": "code",
   "execution_count": null,
   "id": "41519606-082f-491d-a061-33987112a45e",
   "metadata": {},
   "outputs": [],
   "source": [
    "import pandas as pd\n",
    "import warnings\n",
    "warnings.filterwarnings(\"ignore\")\n"
   ]
  },
  {
   "cell_type": "code",
   "execution_count": null,
   "id": "712af5bd-3048-428a-a560-10951c98aae6",
   "metadata": {},
   "outputs": [],
   "source": [
    "# Import datasets\n",
    "data = pd.read_csv(\"covid-variants.csv\")\n",
    "\n",
    "continents = pd.read_csv(\"continents-according-to-our-world-in-data.csv\")\n",
    "continents = continents.drop([\"Code\", \"Year\"], axis=1).rename({\"Entity\":\"Country\"}, axis=1)\n",
    "\n",
    "demographics = pd.read_csv(\"demographics.csv\")\n",
    "demographics = demographics[[\"Country\", \"Population\", \"Area (sq. mi.)\", \"Infant mortality (per 1000 births)\", \"GDP ($ per capita)\", \"Climate\", \"Deathrate\"]]\n"
   ]
  },
  {
   "cell_type": "code",
   "execution_count": null,
   "id": "77922ce4-6fc8-4105-b70b-ae9607f66147",
   "metadata": {},
   "outputs": [],
   "source": [
    "# Change country names for merging within datasets to be possible\n",
    "continents[\"Country\"] = continents[\"Country\"].replace({\"Kosovo\":\"Serbia\", # aggregating cases for Kosovo, Montenegro and Serbia\n",
    "                                                       \"Montenegro\":\"Serbia\",\n",
    "                                                      \"North Macedonia\":\"Macedonia\",\n",
    "                                                      \"Curacao\":\"Netherlands Antilles\", # aggregating cases for Curacao and Sint Maarten\n",
    "                                                      \"Sint Maarten (Dutch part)\":\"Netherlands Antilles\"})\n",
    "\n",
    "demographics[\"Country\"] = demographics[\"Country\"].str.rstrip()\n",
    "\n",
    "demographics[\"Country\"] = demographics[\"Country\"].replace({\"Bosnia & Herzegovina\":\"Bosnia and Herzegovina\",\n",
    "                                                            \"Czech Republic\":\"Czechia\",\n",
    "                                                            \"Gambia, The\":\"Gambia\",\n",
    "                                                            \"Korea, South\":\"South Korea\",\n",
    "                                                            \"Trinidad & Tobago\":\"Trinidad and Tobago\"})\n"
   ]
  },
  {
   "cell_type": "code",
   "execution_count": null,
   "id": "248bc252-f133-487b-b13d-e93884b3d6cd",
   "metadata": {},
   "outputs": [],
   "source": [
    "# Filter datasets to only retain data up to December 2022\n",
    "data.date = pd.to_datetime(data.date)\n",
    "data = data[data.date.dt.year != 2022].sort_values(\"date\")\n"
   ]
  },
  {
   "cell_type": "code",
   "execution_count": null,
   "id": "a88e5c8c-d1c9-4e14-963e-3204badaaacb",
   "metadata": {},
   "outputs": [],
   "source": [
    "# Variants \"others\" and \"non_who\" are the same thing: we keep only one\n",
    "data = data[data[\"variant\"] != \"non_who\"]"
   ]
  },
  {
   "cell_type": "code",
   "execution_count": null,
   "id": "433b4316-132a-4873-a95b-d2b1caf7a489",
   "metadata": {},
   "outputs": [],
   "source": [
    "# Aggregate really similar variants with few cases each\n",
    "# Total Cases are set to 0 for most of the variants in the same group, or aggregating you would be multiplying them\n",
    "data[\"variant_grouped\"] = data[\"variant\"]\n",
    "\n",
    "data.variant_grouped[data.variant == \"B.1.1.277\"] = \"B.1.1\"\n",
    "data.num_sequences_total[data.variant == \"B.1.1.302\"] = 0\n",
    "data.variant_grouped[data.variant == \"B.1.1.302\"] = \"B.1.1\"\n",
    "data.num_sequences_total[data.variant == \"B.1.1.519\"] = 0\n",
    "data.variant_grouped[data.variant == \"B.1.1.519\"] = \"B.1.1\"\n",
    "\n",
    "data.variant_grouped[data.variant == \"B.1.160\"] = \"B.1\"\n",
    "data.num_sequences_total[data.variant == \"B.1.177\"] = 0\n",
    "data.variant_grouped[data.variant == \"B.1.177\"] = \"B.1\"\n",
    "data.num_sequences_total[data.variant == \"B.1.221\"] = 0\n",
    "data.variant_grouped[data.variant == \"B.1.221\"] = \"B.1\"\n",
    "data.num_sequences_total[data.variant == \"B.1.258\"] = 0\n",
    "data.variant_grouped[data.variant == \"B.1.258\"] = \"B.1\"\n",
    "data.num_sequences_total[data.variant == \"B.1.367\"] = 0\n",
    "data.variant_grouped[data.variant == \"B.1.367\"] = \"B.1\"\n",
    "data.num_sequences_total[data.variant == \"B.1.620\"] = 0\n",
    "data.variant_grouped[data.variant == \"B.1.620\"] = \"B.1\"\n",
    "\n",
    "data.variant_grouped[data.variant == \"S:677P.Pelican\"] = \"S:677\"\n",
    "data.num_sequences_total[data.variant == \"S:677H.Robin1\"] = 0\n",
    "data.variant_grouped[data.variant == \"S:677H.Robin1\"] = \"S:677\"\n"
   ]
  },
  {
   "cell_type": "code",
   "execution_count": null,
   "id": "6d8e6535-e626-4209-9e6d-0311f3c547e5",
   "metadata": {},
   "outputs": [],
   "source": [
    "# A few slighly negative percentages are present in the data, we change those to zero\n",
    "data.perc_sequences[data.perc_sequences < 0] "
   ]
  },
  {
   "cell_type": "code",
   "execution_count": null,
   "id": "ef4d60e1-c174-41ad-afaa-fc78287f78df",
   "metadata": {},
   "outputs": [],
   "source": [
    "# Merge with continents and demographics dataset\n",
    "data = data.groupby(by = [\"date\", \"variant_grouped\", \"location\"]).sum().reset_index()\n",
    "data = pd.merge(data, continents, left_on = \"location\", right_on = \"Country\").drop(\"location\", axis = 1)\n",
    "data = pd.merge(data, demographics, left_on = \"Country\", right_on = \"Country\", how = \"left\")"
   ]
  },
  {
   "cell_type": "code",
   "execution_count": null,
   "id": "6e654dc8-d1db-45af-ad97-5b9635d86446",
   "metadata": {},
   "outputs": [],
   "source": [
    "# A few interesting calculated fields\n",
    "data[\"Cases per Capita\"] = data.num_sequences / data.Population\n",
    "data[\"Total Cases per Capita\"] = data.num_sequences_total / data.Population"
   ]
  },
  {
   "cell_type": "code",
   "execution_count": null,
   "id": "f50d9223-f8e5-410c-b5fd-a2f693504f28",
   "metadata": {},
   "outputs": [],
   "source": [
    "# Format data from newly merged datasets\n",
    "data[\"Infant mortality (per 1000 births)\"] = data[\"Infant mortality (per 1000 births)\"].str.replace(\",\",\".\").astype(float)\n",
    "data[\"Deathrate\"] = data[\"Deathrate\"].fillna(\"0,0\").astype(str).str.replace(\",\",\".\").astype(float)"
   ]
  },
  {
   "cell_type": "code",
   "execution_count": null,
   "id": "4b3bd3ca-f5d2-4841-992e-8174e6914636",
   "metadata": {},
   "outputs": [],
   "source": [
    "# Final check of column types\n",
    "data.dtypes"
   ]
  },
  {
   "cell_type": "code",
   "execution_count": null,
   "id": "90809c99-049e-45a0-88f6-221e3fe02c22",
   "metadata": {},
   "outputs": [],
   "source": [
    "# Final check of missing values\n",
    "data.isna().sum()\n"
   ]
  },
  {
   "cell_type": "code",
   "execution_count": null,
   "id": "bd12d72e-ddd2-45b0-9f32-411a71f55fe6",
   "metadata": {},
   "outputs": [],
   "source": [
    "# Export data to csv\n",
    "data.to_csv(\"data.csv\")"
   ]
  }
 ],
 "metadata": {
  "kernelspec": {
   "display_name": "Python 3 (ipykernel)",
   "language": "python",
   "name": "python3"
  },
  "language_info": {
   "codemirror_mode": {
    "name": "ipython",
    "version": 3
   },
   "file_extension": ".py",
   "mimetype": "text/x-python",
   "name": "python",
   "nbconvert_exporter": "python",
   "pygments_lexer": "ipython3",
   "version": "3.9.12"
  }
 },
 "nbformat": 4,
 "nbformat_minor": 5
}
